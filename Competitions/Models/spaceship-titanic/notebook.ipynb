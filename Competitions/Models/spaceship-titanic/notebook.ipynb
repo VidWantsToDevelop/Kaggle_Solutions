{
 "cells": [
  {
   "cell_type": "code",
   "execution_count": 1,
   "metadata": {},
   "outputs": [],
   "source": [
    "import pandas as pd\n",
    "import numpy as np\n",
    "import matplotlib.pyplot as plt\n",
    "import seaborn as sns\n",
    "import ipywidgets as widgets\n",
    "import warnings\n",
    "from sklearn.model_selection import train_test_split, GridSearchCV\n",
    "from sklearn.impute import KNNImputer\n",
    "from sklearn.compose import ColumnTransformer\n",
    "from sklearn.pipeline import Pipeline\n",
    "from sklearn.preprocessing import LabelEncoder, OneHotEncoder, StandardScaler\n",
    "from sklearn.metrics import f1_score, accuracy_score\n",
    "warnings.filterwarnings('ignore')\n",
    "%matplotlib inline"
   ]
  },
  {
   "attachments": {},
   "cell_type": "markdown",
   "metadata": {},
   "source": [
    "Get a high-level overview of the data we have here..."
   ]
  },
  {
   "cell_type": "code",
   "execution_count": 2,
   "metadata": {},
   "outputs": [
    {
     "name": "stdout",
     "output_type": "stream",
     "text": [
      "<class 'pandas.core.frame.DataFrame'>\n",
      "RangeIndex: 8693 entries, 0 to 8692\n",
      "Data columns (total 14 columns):\n",
      " #   Column        Non-Null Count  Dtype  \n",
      "---  ------        --------------  -----  \n",
      " 0   PassengerId   8693 non-null   object \n",
      " 1   HomePlanet    8492 non-null   object \n",
      " 2   CryoSleep     8476 non-null   object \n",
      " 3   Cabin         8494 non-null   object \n",
      " 4   Destination   8511 non-null   object \n",
      " 5   Age           8514 non-null   float64\n",
      " 6   VIP           8490 non-null   object \n",
      " 7   RoomService   8512 non-null   float64\n",
      " 8   FoodCourt     8510 non-null   float64\n",
      " 9   ShoppingMall  8485 non-null   float64\n",
      " 10  Spa           8510 non-null   float64\n",
      " 11  VRDeck        8505 non-null   float64\n",
      " 12  Name          8493 non-null   object \n",
      " 13  Transported   8693 non-null   bool   \n",
      "dtypes: bool(1), float64(6), object(7)\n",
      "memory usage: 891.5+ KB\n"
     ]
    }
   ],
   "source": [
    "df = pd.read_csv(\"../../Datasets/spaceship-titanic/train.csv\")\n",
    "\n",
    "df.head()\n",
    "df.info()"
   ]
  },
  {
   "attachments": {},
   "cell_type": "markdown",
   "metadata": {},
   "source": [
    "As we can see from the tables above, some of the features contain several types of values (e.g the feature \"Cabin\" contains three different values and doesn't follow atomic structure)...Let's do some feature engineering first"
   ]
  },
  {
   "cell_type": "code",
   "execution_count": 3,
   "metadata": {},
   "outputs": [
    {
     "name": "stdout",
     "output_type": "stream",
     "text": [
      "  HomePlanet CryoSleep  Destination  ...  CabinNum CabinSide     LastName\n",
      "0     Europa     False  TRAPPIST-1e  ...         0         P    Ofracculy\n",
      "1      Earth     False  TRAPPIST-1e  ...         0         S        Vines\n",
      "2     Europa     False  TRAPPIST-1e  ...         0         S       Susent\n",
      "3     Europa     False  TRAPPIST-1e  ...         0         S       Susent\n",
      "4      Earth     False  TRAPPIST-1e  ...         1         S  Santantines\n",
      "\n",
      "[5 rows x 17 columns]\n",
      "2218\n"
     ]
    },
    {
     "data": {
      "text/plain": [
       "HomePlanet         201\n",
       "CryoSleep          217\n",
       "Destination        182\n",
       "Age                179\n",
       "VIP                203\n",
       "RoomService        181\n",
       "FoodCourt          183\n",
       "ShoppingMall       208\n",
       "Spa                183\n",
       "VRDeck             188\n",
       "Transported          0\n",
       "PassengerGroup       0\n",
       "PassengerNumber      0\n",
       "CabinDeck          199\n",
       "CabinNum           199\n",
       "CabinSide          199\n",
       "LastName           200\n",
       "dtype: int64"
      ]
     },
     "execution_count": 3,
     "metadata": {},
     "output_type": "execute_result"
    }
   ],
   "source": [
    "# Parse the \"PassengerId\" column from the dataset\n",
    "df[\"PassengerGroup\"] = df[\"PassengerId\"].str.split(\"_\").str[0]\n",
    "df[\"PassengerNumber\"] = df[\"PassengerId\"].str.split(\"_\").str[1]\n",
    "df = df.drop(\"PassengerId\", axis=1)\n",
    "\n",
    "# Parse the \"Cabin\" feature that contains several values\n",
    "df['CabinDeck'] = df['Cabin'].str.split(\"/\").str[0]\n",
    "df[\"CabinNum\"] = df['Cabin'].str.split(\"/\").str[1]\n",
    "df['CabinSide'] = df['Cabin'].str.split(\"/\").str[2]\n",
    "df = df.drop(\"Cabin\", axis=1)\n",
    "\n",
    "# Get passenger's last name\n",
    "df['LastName'] = df['Name'].str.split(\" \").str[1]\n",
    "\n",
    "# Drop the \"Name\" column as it is not needed anymore\n",
    "df = df.drop([\"Name\"], axis=1)\n",
    "\n",
    "print(df.head())\n",
    "\n",
    "print(len(df['LastName'].unique()))\n",
    "\n",
    "df.isnull().sum()"
   ]
  },
  {
   "attachments": {},
   "cell_type": "markdown",
   "metadata": {},
   "source": [
    "Let's check the missing values first. As we can see, almost each column in the data set contains missing values. The following step will be training a new model which will impute missing values"
   ]
  },
  {
   "cell_type": "code",
   "execution_count": 4,
   "metadata": {},
   "outputs": [
    {
     "data": {
      "text/plain": [
       "HomePlanet         201\n",
       "CryoSleep          217\n",
       "Destination        182\n",
       "Age                179\n",
       "VIP                203\n",
       "RoomService        181\n",
       "FoodCourt          183\n",
       "ShoppingMall       208\n",
       "Spa                183\n",
       "VRDeck             188\n",
       "Transported          0\n",
       "PassengerGroup       0\n",
       "PassengerNumber      0\n",
       "CabinDeck          199\n",
       "CabinNum           199\n",
       "CabinSide          199\n",
       "LastName           200\n",
       "dtype: int64"
      ]
     },
     "execution_count": 4,
     "metadata": {},
     "output_type": "execute_result"
    }
   ],
   "source": [
    "# Get all the missing values\n",
    "df.isnull().sum()"
   ]
  },
  {
   "cell_type": "code",
   "execution_count": 5,
   "metadata": {},
   "outputs": [
    {
     "name": "stdout",
     "output_type": "stream",
     "text": [
      "All features Index(['HomePlanet', 'CryoSleep', 'Destination', 'Age', 'VIP', 'RoomService',\n",
      "       'FoodCourt', 'ShoppingMall', 'Spa', 'VRDeck', 'Transported',\n",
      "       'PassengerGroup', 'PassengerNumber', 'CabinDeck', 'CabinNum',\n",
      "       'CabinSide', 'LastName'],\n",
      "      dtype='object')\n",
      "Categorical features ['HomePlanet', 'CryoSleep', 'Destination', 'VIP', 'PassengerGroup', 'PassengerNumber', 'CabinDeck', 'CabinNum', 'CabinSide', 'LastName']\n",
      "Numerical features ['Age', 'RoomService', 'FoodCourt', 'ShoppingMall', 'Spa', 'VRDeck']\n"
     ]
    }
   ],
   "source": [
    "# Impute the missing values using the SimpleImputer\n",
    "from sklearn.impute import SimpleImputer\n",
    "\n",
    "imputer = SimpleImputer(strategy=\"most_frequent\")\n",
    "\n",
    "# Get both categorical and numerical columns\n",
    "categorical_columns = [col for col in df.columns if df[col].dtype == \"object\"]\n",
    "numerical_columns = [col for col in df.columns if df[col].dtype == \"int64\" or df[col].dtype == \"float64\"]\n",
    "\n",
    "print(\"All features\", df.columns)\n",
    "print(\"Categorical features\", categorical_columns)\n",
    "print(\"Numerical features\", numerical_columns)\n",
    "\n",
    "df[categorical_columns] = imputer.fit_transform(df[categorical_columns])"
   ]
  },
  {
   "cell_type": "code",
   "execution_count": 6,
   "metadata": {},
   "outputs": [
    {
     "name": "stdout",
     "output_type": "stream",
     "text": [
      "['CabinDeck']\n",
      "['HomePlanet', 'CryoSleep', 'Destination', 'VIP', 'PassengerGroup', 'PassengerNumber', 'CabinNum', 'CabinSide', 'LastName']\n",
      "    Age  RoomService  ...  CabinSide_count  LastName_count\n",
      "0  39.0          0.0  ...             4206               1\n",
      "1  24.0        109.0  ...             4487               4\n",
      "2  58.0         43.0  ...             4487               6\n",
      "3  33.0          0.0  ...             4487               6\n",
      "4  16.0        303.0  ...             4487               6\n",
      "\n",
      "[5 rows x 17 columns]\n",
      "Age                      179\n",
      "RoomService              181\n",
      "FoodCourt                183\n",
      "ShoppingMall             208\n",
      "Spa                      183\n",
      "VRDeck                   188\n",
      "Transported                0\n",
      "CabinDeck                  0\n",
      "HomePlanet_count           0\n",
      "CryoSleep_count            0\n",
      "Destination_count          0\n",
      "VIP_count                  0\n",
      "PassengerGroup_count       0\n",
      "PassengerNumber_count      0\n",
      "CabinNum_count             0\n",
      "CabinSide_count            0\n",
      "LastName_count             0\n",
      "dtype: int64\n"
     ]
    }
   ],
   "source": [
    "# Encode the categorical features\n",
    "\n",
    "ordinal_columns = ['CabinDeck']\n",
    "non_ordinal_columns = [col for col in categorical_columns if col not in ordinal_columns]\n",
    "\n",
    "le = LabelEncoder()\n",
    "ohe = OneHotEncoder()\n",
    "\n",
    "print(ordinal_columns)\n",
    "print(non_ordinal_columns)\n",
    "\n",
    "# Before we start encoding the features, we need to convert the NaN values to string\n",
    "for col in categorical_columns:\n",
    "\n",
    "    # Encode the features\n",
    "    if col in ordinal_columns:\n",
    "        df[col] = le.fit_transform(df[col].astype(str))\n",
    "    else:\n",
    "        # Encode the non-ordinal features using the CountEncoder\n",
    "        count_map = df[col].value_counts().to_dict()\n",
    "        df[col+\"_count\"] = df[col].map(count_map)\n",
    "        \n",
    "        # Drop the original column\n",
    "        df = df.drop(col, axis=1)\n",
    "\n",
    "\n",
    "print(df.head())\n",
    "print(df.isnull().sum())"
   ]
  },
  {
   "cell_type": "code",
   "execution_count": 7,
   "metadata": {},
   "outputs": [
    {
     "data": {
      "text/html": [
       "<style>#sk-container-id-1 {color: black;background-color: white;}#sk-container-id-1 pre{padding: 0;}#sk-container-id-1 div.sk-toggleable {background-color: white;}#sk-container-id-1 label.sk-toggleable__label {cursor: pointer;display: block;width: 100%;margin-bottom: 0;padding: 0.3em;box-sizing: border-box;text-align: center;}#sk-container-id-1 label.sk-toggleable__label-arrow:before {content: \"▸\";float: left;margin-right: 0.25em;color: #696969;}#sk-container-id-1 label.sk-toggleable__label-arrow:hover:before {color: black;}#sk-container-id-1 div.sk-estimator:hover label.sk-toggleable__label-arrow:before {color: black;}#sk-container-id-1 div.sk-toggleable__content {max-height: 0;max-width: 0;overflow: hidden;text-align: left;background-color: #f0f8ff;}#sk-container-id-1 div.sk-toggleable__content pre {margin: 0.2em;color: black;border-radius: 0.25em;background-color: #f0f8ff;}#sk-container-id-1 input.sk-toggleable__control:checked~div.sk-toggleable__content {max-height: 200px;max-width: 100%;overflow: auto;}#sk-container-id-1 input.sk-toggleable__control:checked~label.sk-toggleable__label-arrow:before {content: \"▾\";}#sk-container-id-1 div.sk-estimator input.sk-toggleable__control:checked~label.sk-toggleable__label {background-color: #d4ebff;}#sk-container-id-1 div.sk-label input.sk-toggleable__control:checked~label.sk-toggleable__label {background-color: #d4ebff;}#sk-container-id-1 input.sk-hidden--visually {border: 0;clip: rect(1px 1px 1px 1px);clip: rect(1px, 1px, 1px, 1px);height: 1px;margin: -1px;overflow: hidden;padding: 0;position: absolute;width: 1px;}#sk-container-id-1 div.sk-estimator {font-family: monospace;background-color: #f0f8ff;border: 1px dotted black;border-radius: 0.25em;box-sizing: border-box;margin-bottom: 0.5em;}#sk-container-id-1 div.sk-estimator:hover {background-color: #d4ebff;}#sk-container-id-1 div.sk-parallel-item::after {content: \"\";width: 100%;border-bottom: 1px solid gray;flex-grow: 1;}#sk-container-id-1 div.sk-label:hover label.sk-toggleable__label {background-color: #d4ebff;}#sk-container-id-1 div.sk-serial::before {content: \"\";position: absolute;border-left: 1px solid gray;box-sizing: border-box;top: 0;bottom: 0;left: 50%;z-index: 0;}#sk-container-id-1 div.sk-serial {display: flex;flex-direction: column;align-items: center;background-color: white;padding-right: 0.2em;padding-left: 0.2em;position: relative;}#sk-container-id-1 div.sk-item {position: relative;z-index: 1;}#sk-container-id-1 div.sk-parallel {display: flex;align-items: stretch;justify-content: center;background-color: white;position: relative;}#sk-container-id-1 div.sk-item::before, #sk-container-id-1 div.sk-parallel-item::before {content: \"\";position: absolute;border-left: 1px solid gray;box-sizing: border-box;top: 0;bottom: 0;left: 50%;z-index: -1;}#sk-container-id-1 div.sk-parallel-item {display: flex;flex-direction: column;z-index: 1;position: relative;background-color: white;}#sk-container-id-1 div.sk-parallel-item:first-child::after {align-self: flex-end;width: 50%;}#sk-container-id-1 div.sk-parallel-item:last-child::after {align-self: flex-start;width: 50%;}#sk-container-id-1 div.sk-parallel-item:only-child::after {width: 0;}#sk-container-id-1 div.sk-dashed-wrapped {border: 1px dashed gray;margin: 0 0.4em 0.5em 0.4em;box-sizing: border-box;padding-bottom: 0.4em;background-color: white;}#sk-container-id-1 div.sk-label label {font-family: monospace;font-weight: bold;display: inline-block;line-height: 1.2em;}#sk-container-id-1 div.sk-label-container {text-align: center;}#sk-container-id-1 div.sk-container {/* jupyter's `normalize.less` sets `[hidden] { display: none; }` but bootstrap.min.css set `[hidden] { display: none !important; }` so we also need the `!important` here to be able to override the default hidden behavior on the sphinx rendered scikit-learn.org. See: https://github.com/scikit-learn/scikit-learn/issues/21755 */display: inline-block !important;position: relative;}#sk-container-id-1 div.sk-text-repr-fallback {display: none;}</style><div id=\"sk-container-id-1\" class=\"sk-top-container\"><div class=\"sk-text-repr-fallback\"><pre>GridSearchCV(cv=5,\n",
       "             estimator=Pipeline(steps=[(&#x27;imputer&#x27;,\n",
       "                                        ColumnTransformer(remainder=&#x27;passthrough&#x27;,\n",
       "                                                          transformers=[(&#x27;knn_imputer&#x27;,\n",
       "                                                                         KNNImputer(),\n",
       "                                                                         [&#x27;Age&#x27;,\n",
       "                                                                          &#x27;RoomService&#x27;,\n",
       "                                                                          &#x27;FoodCourt&#x27;,\n",
       "                                                                          &#x27;ShoppingMall&#x27;,\n",
       "                                                                          &#x27;Spa&#x27;,\n",
       "                                                                          &#x27;VRDeck&#x27;])]))]),\n",
       "             param_grid={&#x27;imputer__knn_imputer__n_neighbors&#x27;: [3, 5, 7, 9, 11]},\n",
       "             scoring=&#x27;neg_mean_squared_error&#x27;)</pre><b>In a Jupyter environment, please rerun this cell to show the HTML representation or trust the notebook. <br />On GitHub, the HTML representation is unable to render, please try loading this page with nbviewer.org.</b></div><div class=\"sk-container\" hidden><div class=\"sk-item sk-dashed-wrapped\"><div class=\"sk-label-container\"><div class=\"sk-label sk-toggleable\"><input class=\"sk-toggleable__control sk-hidden--visually\" id=\"sk-estimator-id-1\" type=\"checkbox\" ><label for=\"sk-estimator-id-1\" class=\"sk-toggleable__label sk-toggleable__label-arrow\">GridSearchCV</label><div class=\"sk-toggleable__content\"><pre>GridSearchCV(cv=5,\n",
       "             estimator=Pipeline(steps=[(&#x27;imputer&#x27;,\n",
       "                                        ColumnTransformer(remainder=&#x27;passthrough&#x27;,\n",
       "                                                          transformers=[(&#x27;knn_imputer&#x27;,\n",
       "                                                                         KNNImputer(),\n",
       "                                                                         [&#x27;Age&#x27;,\n",
       "                                                                          &#x27;RoomService&#x27;,\n",
       "                                                                          &#x27;FoodCourt&#x27;,\n",
       "                                                                          &#x27;ShoppingMall&#x27;,\n",
       "                                                                          &#x27;Spa&#x27;,\n",
       "                                                                          &#x27;VRDeck&#x27;])]))]),\n",
       "             param_grid={&#x27;imputer__knn_imputer__n_neighbors&#x27;: [3, 5, 7, 9, 11]},\n",
       "             scoring=&#x27;neg_mean_squared_error&#x27;)</pre></div></div></div><div class=\"sk-parallel\"><div class=\"sk-parallel-item\"><div class=\"sk-item\"><div class=\"sk-label-container\"><div class=\"sk-label sk-toggleable\"><input class=\"sk-toggleable__control sk-hidden--visually\" id=\"sk-estimator-id-2\" type=\"checkbox\" ><label for=\"sk-estimator-id-2\" class=\"sk-toggleable__label sk-toggleable__label-arrow\">estimator: Pipeline</label><div class=\"sk-toggleable__content\"><pre>Pipeline(steps=[(&#x27;imputer&#x27;,\n",
       "                 ColumnTransformer(remainder=&#x27;passthrough&#x27;,\n",
       "                                   transformers=[(&#x27;knn_imputer&#x27;, KNNImputer(),\n",
       "                                                  [&#x27;Age&#x27;, &#x27;RoomService&#x27;,\n",
       "                                                   &#x27;FoodCourt&#x27;, &#x27;ShoppingMall&#x27;,\n",
       "                                                   &#x27;Spa&#x27;, &#x27;VRDeck&#x27;])]))])</pre></div></div></div><div class=\"sk-serial\"><div class=\"sk-item\"><div class=\"sk-serial\"><div class=\"sk-item sk-dashed-wrapped\"><div class=\"sk-label-container\"><div class=\"sk-label sk-toggleable\"><input class=\"sk-toggleable__control sk-hidden--visually\" id=\"sk-estimator-id-3\" type=\"checkbox\" ><label for=\"sk-estimator-id-3\" class=\"sk-toggleable__label sk-toggleable__label-arrow\">imputer: ColumnTransformer</label><div class=\"sk-toggleable__content\"><pre>ColumnTransformer(remainder=&#x27;passthrough&#x27;,\n",
       "                  transformers=[(&#x27;knn_imputer&#x27;, KNNImputer(),\n",
       "                                 [&#x27;Age&#x27;, &#x27;RoomService&#x27;, &#x27;FoodCourt&#x27;,\n",
       "                                  &#x27;ShoppingMall&#x27;, &#x27;Spa&#x27;, &#x27;VRDeck&#x27;])])</pre></div></div></div><div class=\"sk-parallel\"><div class=\"sk-parallel-item\"><div class=\"sk-item\"><div class=\"sk-label-container\"><div class=\"sk-label sk-toggleable\"><input class=\"sk-toggleable__control sk-hidden--visually\" id=\"sk-estimator-id-4\" type=\"checkbox\" ><label for=\"sk-estimator-id-4\" class=\"sk-toggleable__label sk-toggleable__label-arrow\">knn_imputer</label><div class=\"sk-toggleable__content\"><pre>[&#x27;Age&#x27;, &#x27;RoomService&#x27;, &#x27;FoodCourt&#x27;, &#x27;ShoppingMall&#x27;, &#x27;Spa&#x27;, &#x27;VRDeck&#x27;]</pre></div></div></div><div class=\"sk-serial\"><div class=\"sk-item\"><div class=\"sk-estimator sk-toggleable\"><input class=\"sk-toggleable__control sk-hidden--visually\" id=\"sk-estimator-id-5\" type=\"checkbox\" ><label for=\"sk-estimator-id-5\" class=\"sk-toggleable__label sk-toggleable__label-arrow\">KNNImputer</label><div class=\"sk-toggleable__content\"><pre>KNNImputer()</pre></div></div></div></div></div></div><div class=\"sk-parallel-item\"><div class=\"sk-item\"><div class=\"sk-label-container\"><div class=\"sk-label sk-toggleable\"><input class=\"sk-toggleable__control sk-hidden--visually\" id=\"sk-estimator-id-6\" type=\"checkbox\" ><label for=\"sk-estimator-id-6\" class=\"sk-toggleable__label sk-toggleable__label-arrow\">remainder</label><div class=\"sk-toggleable__content\"><pre></pre></div></div></div><div class=\"sk-serial\"><div class=\"sk-item\"><div class=\"sk-estimator sk-toggleable\"><input class=\"sk-toggleable__control sk-hidden--visually\" id=\"sk-estimator-id-7\" type=\"checkbox\" ><label for=\"sk-estimator-id-7\" class=\"sk-toggleable__label sk-toggleable__label-arrow\">passthrough</label><div class=\"sk-toggleable__content\"><pre>passthrough</pre></div></div></div></div></div></div></div></div></div></div></div></div></div></div></div></div></div>"
      ],
      "text/plain": [
       "GridSearchCV(cv=5,\n",
       "             estimator=Pipeline(steps=[('imputer',\n",
       "                                        ColumnTransformer(remainder='passthrough',\n",
       "                                                          transformers=[('knn_imputer',\n",
       "                                                                         KNNImputer(),\n",
       "                                                                         ['Age',\n",
       "                                                                          'RoomService',\n",
       "                                                                          'FoodCourt',\n",
       "                                                                          'ShoppingMall',\n",
       "                                                                          'Spa',\n",
       "                                                                          'VRDeck'])]))]),\n",
       "             param_grid={'imputer__knn_imputer__n_neighbors': [3, 5, 7, 9, 11]},\n",
       "             scoring='neg_mean_squared_error')"
      ]
     },
     "execution_count": 7,
     "metadata": {},
     "output_type": "execute_result"
    }
   ],
   "source": [
    "# Build a pipline that we will use to impute the missing values\n",
    "param_grid = {'imputer__knn_imputer__n_neighbors': [3, 5, 7, 9, 11]}\n",
    "\n",
    "imputer_pipeline = Pipeline([\n",
    "    ('imputer', ColumnTransformer([\n",
    "    ('knn_imputer', KNNImputer(), numerical_columns)\n",
    "    ], remainder='passthrough'))\n",
    "])\n",
    "\n",
    "grid_search = GridSearchCV(imputer_pipeline, param_grid, cv=5, scoring='neg_mean_squared_error')\n",
    "\n",
    "grid_search.fit(df, df['Transported'])\n"
   ]
  },
  {
   "cell_type": "code",
   "execution_count": 8,
   "metadata": {},
   "outputs": [
    {
     "name": "stdout",
     "output_type": "stream",
     "text": [
      "Best parametes are: {'imputer__knn_imputer__n_neighbors': 3}\n"
     ]
    }
   ],
   "source": [
    "best_params = grid_search.best_params_\n",
    "print(\"Best parametes are: {}\".format(best_params))\n",
    "\n",
    "imputer = KNNImputer(n_neighbors=best_params['imputer__knn_imputer__n_neighbors'])\n",
    "\n",
    "df_imputed = pd.DataFrame(imputer.fit_transform(df[numerical_columns]), columns=numerical_columns)"
   ]
  },
  {
   "cell_type": "code",
   "execution_count": 9,
   "metadata": {},
   "outputs": [
    {
     "name": "stdout",
     "output_type": "stream",
     "text": [
      "    Age  RoomService  ...  CabinSide_count  LastName_count\n",
      "0  39.0          0.0  ...             4206               1\n",
      "1  24.0        109.0  ...             4487               4\n",
      "2  58.0         43.0  ...             4487               6\n",
      "3  33.0          0.0  ...             4487               6\n",
      "4  16.0        303.0  ...             4487               6\n",
      "\n",
      "[5 rows x 17 columns]\n",
      "Age                      0\n",
      "RoomService              0\n",
      "FoodCourt                0\n",
      "ShoppingMall             0\n",
      "Spa                      0\n",
      "VRDeck                   0\n",
      "Transported              0\n",
      "CabinDeck                0\n",
      "HomePlanet_count         0\n",
      "CryoSleep_count          0\n",
      "Destination_count        0\n",
      "VIP_count                0\n",
      "PassengerGroup_count     0\n",
      "PassengerNumber_count    0\n",
      "CabinNum_count           0\n",
      "CabinSide_count          0\n",
      "LastName_count           0\n",
      "dtype: int64\n",
      "[5656 3037]\n"
     ]
    }
   ],
   "source": [
    "df_imputed = pd.concat([df_imputed, df.drop(numerical_columns, axis=1)], axis=1)\n",
    "df = df_imputed.copy()\n",
    "\n",
    "print(df_imputed.head())\n",
    "print(df_imputed.isnull().sum())\n",
    "print(df_imputed['CryoSleep_count'].unique())"
   ]
  },
  {
   "attachments": {},
   "cell_type": "markdown",
   "metadata": {},
   "source": [
    "After we have imputed all the features that can be predicted with the model, I will replace the \"Name\" column with the new category - \"Unknown\""
   ]
  },
  {
   "cell_type": "code",
   "execution_count": 10,
   "metadata": {},
   "outputs": [],
   "source": [
    "# new_category = 'Unknown'\n",
    "\n",
    "# missing_names = df['Name'].isnull()\n",
    "\n",
    "# df.loc[missing_names, 'Name'] = new_category"
   ]
  },
  {
   "attachments": {},
   "cell_type": "markdown",
   "metadata": {},
   "source": [
    "Before scaling the parameters we have to make sure that the dataset contain only numerical values"
   ]
  },
  {
   "cell_type": "code",
   "execution_count": 11,
   "metadata": {},
   "outputs": [],
   "source": [
    "numeric_features = [x for x in df.columns if df[x].dtype != 'object' and df[x].dtype != 'bool']"
   ]
  },
  {
   "cell_type": "code",
   "execution_count": 12,
   "metadata": {},
   "outputs": [
    {
     "name": "stdout",
     "output_type": "stream",
     "text": [
      "Age                        27.0\n",
      "RoomService              1286.0\n",
      "FoodCourt                 122.0\n",
      "ShoppingMall              162.0\n",
      "Spa                         0.0\n",
      "VRDeck                      0.0\n",
      "Transported               False\n",
      "CabinDeck                     5\n",
      "HomePlanet_count           1759\n",
      "CryoSleep_count            5656\n",
      "Destination_count          1800\n",
      "VIP_count                  8494\n",
      "PassengerGroup_count          1\n",
      "PassengerNumber_count      6217\n",
      "CabinNum_count               16\n",
      "CabinSide_count            4206\n",
      "LastName_count                1\n",
      "TotalAmenities           1570.0\n",
      "Name: 16, dtype: object\n",
      "Age                        29.0\n",
      "RoomService                 0.0\n",
      "FoodCourt                2972.0\n",
      "ShoppingMall              256.0\n",
      "Spa                        28.0\n",
      "VRDeck                    188.0\n",
      "Transported                True\n",
      "CabinDeck                     4\n",
      "HomePlanet_count           2131\n",
      "CryoSleep_count            5656\n",
      "Destination_count          6097\n",
      "VIP_count                  8494\n",
      "PassengerGroup_count          1\n",
      "PassengerNumber_count      6217\n",
      "CabinNum_count                3\n",
      "CabinSide_count            4206\n",
      "LastName_count                2\n",
      "TotalAmenities           3444.0\n",
      "Name: 8667, dtype: object\n"
     ]
    }
   ],
   "source": [
    "# Sum up all the amenities costs\n",
    "df[\"TotalAmenities\"] = df['RoomService'] + df['FoodCourt'] + \\\n",
    "    df['ShoppingMall'] + df['Spa'] + df['VRDeck']\n",
    "\n",
    "\n",
    "print(df.iloc[16])\n",
    "\n",
    "print(df.iloc[8667])"
   ]
  },
  {
   "cell_type": "code",
   "execution_count": 13,
   "metadata": {},
   "outputs": [
    {
     "data": {
      "text/html": [
       "<div>\n",
       "<style scoped>\n",
       "    .dataframe tbody tr th:only-of-type {\n",
       "        vertical-align: middle;\n",
       "    }\n",
       "\n",
       "    .dataframe tbody tr th {\n",
       "        vertical-align: top;\n",
       "    }\n",
       "\n",
       "    .dataframe thead th {\n",
       "        text-align: right;\n",
       "    }\n",
       "</style>\n",
       "<table border=\"1\" class=\"dataframe\">\n",
       "  <thead>\n",
       "    <tr style=\"text-align: right;\">\n",
       "      <th></th>\n",
       "      <th>Age</th>\n",
       "      <th>RoomService</th>\n",
       "      <th>FoodCourt</th>\n",
       "      <th>ShoppingMall</th>\n",
       "      <th>Spa</th>\n",
       "      <th>VRDeck</th>\n",
       "      <th>CabinDeck</th>\n",
       "      <th>HomePlanet_count</th>\n",
       "      <th>CryoSleep_count</th>\n",
       "      <th>Destination_count</th>\n",
       "      <th>VIP_count</th>\n",
       "      <th>PassengerGroup_count</th>\n",
       "      <th>PassengerNumber_count</th>\n",
       "      <th>CabinNum_count</th>\n",
       "      <th>CabinSide_count</th>\n",
       "      <th>LastName_count</th>\n",
       "    </tr>\n",
       "  </thead>\n",
       "  <tbody>\n",
       "    <tr>\n",
       "      <th>count</th>\n",
       "      <td>8693.000000</td>\n",
       "      <td>8693.000000</td>\n",
       "      <td>8693.000000</td>\n",
       "      <td>8693.000000</td>\n",
       "      <td>8693.000000</td>\n",
       "      <td>8693.000000</td>\n",
       "      <td>8693.000000</td>\n",
       "      <td>8693.000000</td>\n",
       "      <td>8693.000000</td>\n",
       "      <td>8693.000000</td>\n",
       "      <td>8693.000000</td>\n",
       "      <td>8693.000000</td>\n",
       "      <td>8693.000000</td>\n",
       "      <td>8693.000000</td>\n",
       "      <td>8693.000000</td>\n",
       "      <td>8693.000000</td>\n",
       "    </tr>\n",
       "    <tr>\n",
       "      <th>mean</th>\n",
       "      <td>28.811381</td>\n",
       "      <td>223.724721</td>\n",
       "      <td>453.421067</td>\n",
       "      <td>172.401472</td>\n",
       "      <td>308.013996</td>\n",
       "      <td>302.005905</td>\n",
       "      <td>4.321293</td>\n",
       "      <td>3532.043138</td>\n",
       "      <td>4741.022087</td>\n",
       "      <td>4721.848039</td>\n",
       "      <td>8304.111009</td>\n",
       "      <td>2.035546</td>\n",
       "      <td>4722.021051</td>\n",
       "      <td>13.690671</td>\n",
       "      <td>4351.041643</td>\n",
       "      <td>10.732889</td>\n",
       "    </tr>\n",
       "    <tr>\n",
       "      <th>std</th>\n",
       "      <td>14.368746</td>\n",
       "      <td>662.927512</td>\n",
       "      <td>1599.741507</td>\n",
       "      <td>598.647138</td>\n",
       "      <td>1126.808591</td>\n",
       "      <td>1135.601511</td>\n",
       "      <td>1.760826</td>\n",
       "      <td>1417.754407</td>\n",
       "      <td>1248.728133</td>\n",
       "      <td>2122.697950</td>\n",
       "      <td>1240.664507</td>\n",
       "      <td>1.596347</td>\n",
       "      <td>2385.868889</td>\n",
       "      <td>35.290842</td>\n",
       "      <td>140.434655</td>\n",
       "      <td>33.361785</td>\n",
       "    </tr>\n",
       "    <tr>\n",
       "      <th>min</th>\n",
       "      <td>0.000000</td>\n",
       "      <td>0.000000</td>\n",
       "      <td>0.000000</td>\n",
       "      <td>0.000000</td>\n",
       "      <td>0.000000</td>\n",
       "      <td>0.000000</td>\n",
       "      <td>0.000000</td>\n",
       "      <td>1759.000000</td>\n",
       "      <td>3037.000000</td>\n",
       "      <td>796.000000</td>\n",
       "      <td>199.000000</td>\n",
       "      <td>1.000000</td>\n",
       "      <td>13.000000</td>\n",
       "      <td>1.000000</td>\n",
       "      <td>4206.000000</td>\n",
       "      <td>1.000000</td>\n",
       "    </tr>\n",
       "    <tr>\n",
       "      <th>25%</th>\n",
       "      <td>20.000000</td>\n",
       "      <td>0.000000</td>\n",
       "      <td>0.000000</td>\n",
       "      <td>0.000000</td>\n",
       "      <td>0.000000</td>\n",
       "      <td>0.000000</td>\n",
       "      <td>3.000000</td>\n",
       "      <td>2131.000000</td>\n",
       "      <td>3037.000000</td>\n",
       "      <td>1800.000000</td>\n",
       "      <td>8494.000000</td>\n",
       "      <td>1.000000</td>\n",
       "      <td>1412.000000</td>\n",
       "      <td>4.000000</td>\n",
       "      <td>4206.000000</td>\n",
       "      <td>3.000000</td>\n",
       "    </tr>\n",
       "    <tr>\n",
       "      <th>50%</th>\n",
       "      <td>27.000000</td>\n",
       "      <td>0.000000</td>\n",
       "      <td>0.000000</td>\n",
       "      <td>0.000000</td>\n",
       "      <td>0.000000</td>\n",
       "      <td>0.000000</td>\n",
       "      <td>5.000000</td>\n",
       "      <td>4803.000000</td>\n",
       "      <td>5656.000000</td>\n",
       "      <td>6097.000000</td>\n",
       "      <td>8494.000000</td>\n",
       "      <td>1.000000</td>\n",
       "      <td>6217.000000</td>\n",
       "      <td>7.000000</td>\n",
       "      <td>4487.000000</td>\n",
       "      <td>5.000000</td>\n",
       "    </tr>\n",
       "    <tr>\n",
       "      <th>75%</th>\n",
       "      <td>38.000000</td>\n",
       "      <td>48.000000</td>\n",
       "      <td>79.000000</td>\n",
       "      <td>29.000000</td>\n",
       "      <td>60.000000</td>\n",
       "      <td>46.000000</td>\n",
       "      <td>6.000000</td>\n",
       "      <td>4803.000000</td>\n",
       "      <td>5656.000000</td>\n",
       "      <td>6097.000000</td>\n",
       "      <td>8494.000000</td>\n",
       "      <td>3.000000</td>\n",
       "      <td>6217.000000</td>\n",
       "      <td>12.000000</td>\n",
       "      <td>4487.000000</td>\n",
       "      <td>7.000000</td>\n",
       "    </tr>\n",
       "    <tr>\n",
       "      <th>max</th>\n",
       "      <td>79.000000</td>\n",
       "      <td>14327.000000</td>\n",
       "      <td>29813.000000</td>\n",
       "      <td>23492.000000</td>\n",
       "      <td>22408.000000</td>\n",
       "      <td>24133.000000</td>\n",
       "      <td>7.000000</td>\n",
       "      <td>4803.000000</td>\n",
       "      <td>5656.000000</td>\n",
       "      <td>6097.000000</td>\n",
       "      <td>8494.000000</td>\n",
       "      <td>8.000000</td>\n",
       "      <td>6217.000000</td>\n",
       "      <td>227.000000</td>\n",
       "      <td>4487.000000</td>\n",
       "      <td>218.000000</td>\n",
       "    </tr>\n",
       "  </tbody>\n",
       "</table>\n",
       "</div>"
      ],
      "text/plain": [
       "               Age   RoomService  ...  CabinSide_count  LastName_count\n",
       "count  8693.000000   8693.000000  ...      8693.000000     8693.000000\n",
       "mean     28.811381    223.724721  ...      4351.041643       10.732889\n",
       "std      14.368746    662.927512  ...       140.434655       33.361785\n",
       "min       0.000000      0.000000  ...      4206.000000        1.000000\n",
       "25%      20.000000      0.000000  ...      4206.000000        3.000000\n",
       "50%      27.000000      0.000000  ...      4487.000000        5.000000\n",
       "75%      38.000000     48.000000  ...      4487.000000        7.000000\n",
       "max      79.000000  14327.000000  ...      4487.000000      218.000000\n",
       "\n",
       "[8 rows x 16 columns]"
      ]
     },
     "execution_count": 13,
     "metadata": {},
     "output_type": "execute_result"
    }
   ],
   "source": [
    "# Replace the dependent variable with 0 and 1\n",
    "df['Transported'] = df['Transported'].replace({False: 0, True: 1})\n",
    "\n",
    "df[numeric_features].describe()"
   ]
  },
  {
   "cell_type": "code",
   "execution_count": 14,
   "metadata": {},
   "outputs": [
    {
     "name": "stdout",
     "output_type": "stream",
     "text": [
      "F1 score: 0.8062940857297883\n",
      "Accuracy score: 0.7947096032202415\n"
     ]
    }
   ],
   "source": [
    "from sklearn.linear_model import LogisticRegression\n",
    "\n",
    "# Instantiate a copy of the dataframe for the Logistic Regression model\n",
    "df_lr = df.copy()\n",
    "\n",
    "# Standardize the numerical features\n",
    "scaler = StandardScaler()\n",
    "for col in [col for col in df_lr.columns if col not in ['Transported']]:\n",
    "    df_lr[col] = scaler.fit_transform(df_lr[col].values.reshape(-1, 1))\n",
    "\n",
    "# Split the dataset into train and test subsets\n",
    "y = df_lr['Transported']\n",
    "X = df_lr.drop(\"Transported\", axis=1)\n",
    "X_train, X_test, y_train, y_test = train_test_split(X, y, train_size=0.8, random_state=128)\n",
    "\n",
    "lr_model = LogisticRegression()\n",
    "lr_model.fit(X_train, y_train)\n",
    "\n",
    "y_pred = lr_model.predict(X_test)\n",
    "print(f\"F1 score: {f1_score(y_test, y_pred)}\")\n",
    "print(f\"Accuracy score: {accuracy_score(y_test, y_pred)}\")\n"
   ]
  },
  {
   "cell_type": "code",
   "execution_count": 15,
   "metadata": {},
   "outputs": [
    {
     "name": "stdout",
     "output_type": "stream",
     "text": [
      "F1 score: 0.7997799779977998\n",
      "Accuracy score: 0.7906843013225991\n"
     ]
    }
   ],
   "source": [
    "\n",
    "from sklearn.svm import SVC\n",
    "\n",
    "# Instantiate a copy of the dataframe for the SVM model\n",
    "df_svm = df.copy()\n",
    "\n",
    "# Split the dataset before standardizing it's features\n",
    "X_train, X_test, y_train, y_test = train_test_split(X, y, train_size=0.8, random_state=128)\n",
    "\n",
    "# Standardize the numerical features\n",
    "scaler = StandardScaler()\n",
    "\n",
    "for col in [col for col in df_svm.columns if col not in ['Transported']]:\n",
    "    X_train[col] = scaler.fit_transform(X_train[col].values.reshape(-1, 1))\n",
    "    X_test[col] = scaler.transform(X_test[col].values.reshape(-1, 1))\n",
    "\n",
    "# Training the model\n",
    "svm_model = SVC(kernel='linear', C=1)\n",
    "\n",
    "svm_model.fit(X_train, y_train)\n",
    "\n",
    "y_pred = svm_model.predict(X_test)\n",
    "\n",
    "print(f\"F1 score: {f1_score(y_test, y_pred)}\")\n",
    "print(f\"Accuracy score: {accuracy_score(y_test, y_pred)}\")\n"
   ]
  },
  {
   "cell_type": "code",
   "execution_count": 16,
   "metadata": {},
   "outputs": [
    {
     "ename": "TypeError",
     "evalue": "'int' object is not iterable",
     "output_type": "error",
     "traceback": [
      "\u001b[1;31m---------------------------------------------------------------------------\u001b[0m",
      "\u001b[1;31mTypeError\u001b[0m                                 Traceback (most recent call last)",
      "Cell \u001b[1;32mIn[16], line 19\u001b[0m\n\u001b[0;32m     17\u001b[0m \u001b[39m# Training the deep learning model\u001b[39;00m\n\u001b[0;32m     18\u001b[0m dl_model \u001b[39m=\u001b[39m Sequential()\n\u001b[1;32m---> 19\u001b[0m dl_model\u001b[39m.\u001b[39madd(Dense(\u001b[39m32\u001b[39;49m, activation\u001b[39m=\u001b[39;49m\u001b[39m'\u001b[39;49m\u001b[39mrelu\u001b[39;49m\u001b[39m'\u001b[39;49m, input_shape\u001b[39m=\u001b[39;49m(X_train\u001b[39m.\u001b[39;49mshape[\u001b[39m1\u001b[39;49m])))\n\u001b[0;32m     20\u001b[0m dl_model\u001b[39m.\u001b[39madd(Dense(\u001b[39m16\u001b[39m, activation\u001b[39m=\u001b[39m\u001b[39m'\u001b[39m\u001b[39mrelu\u001b[39m\u001b[39m'\u001b[39m))\n\u001b[0;32m     21\u001b[0m dl_model\u001b[39m.\u001b[39madd(Dense(\u001b[39m1\u001b[39m, activation\u001b[39m=\u001b[39m\u001b[39m'\u001b[39m\u001b[39msigmoid\u001b[39m\u001b[39m'\u001b[39m))\n",
      "File \u001b[1;32mc:\\Users\\Administrator\\AppData\\Local\\Programs\\Python\\Python311\\Lib\\site-packages\\keras\\dtensor\\utils.py:96\u001b[0m, in \u001b[0;36mallow_initializer_layout.<locals>._wrap_function\u001b[1;34m(layer_instance, *args, **kwargs)\u001b[0m\n\u001b[0;32m     93\u001b[0m         \u001b[39mif\u001b[39;00m layout:\n\u001b[0;32m     94\u001b[0m             layout_args[variable_name \u001b[39m+\u001b[39m \u001b[39m\"\u001b[39m\u001b[39m_layout\u001b[39m\u001b[39m\"\u001b[39m] \u001b[39m=\u001b[39m layout\n\u001b[1;32m---> 96\u001b[0m init_method(layer_instance, \u001b[39m*\u001b[39;49margs, \u001b[39m*\u001b[39;49m\u001b[39m*\u001b[39;49mkwargs)\n\u001b[0;32m     98\u001b[0m \u001b[39m# Inject the layout parameter after the invocation of __init__()\u001b[39;00m\n\u001b[0;32m     99\u001b[0m \u001b[39mfor\u001b[39;00m layout_param_name, layout \u001b[39min\u001b[39;00m layout_args\u001b[39m.\u001b[39mitems():\n",
      "File \u001b[1;32mc:\\Users\\Administrator\\AppData\\Local\\Programs\\Python\\Python311\\Lib\\site-packages\\keras\\layers\\core\\dense.py:117\u001b[0m, in \u001b[0;36mDense.__init__\u001b[1;34m(self, units, activation, use_bias, kernel_initializer, bias_initializer, kernel_regularizer, bias_regularizer, activity_regularizer, kernel_constraint, bias_constraint, **kwargs)\u001b[0m\n\u001b[0;32m    102\u001b[0m \u001b[39m@utils\u001b[39m\u001b[39m.\u001b[39mallow_initializer_layout\n\u001b[0;32m    103\u001b[0m \u001b[39mdef\u001b[39;00m \u001b[39m__init__\u001b[39m(\n\u001b[0;32m    104\u001b[0m     \u001b[39mself\u001b[39m,\n\u001b[1;32m   (...)\u001b[0m\n\u001b[0;32m    115\u001b[0m     \u001b[39m*\u001b[39m\u001b[39m*\u001b[39mkwargs,\n\u001b[0;32m    116\u001b[0m ):\n\u001b[1;32m--> 117\u001b[0m     \u001b[39msuper\u001b[39;49m()\u001b[39m.\u001b[39;49m\u001b[39m__init__\u001b[39;49m(activity_regularizer\u001b[39m=\u001b[39;49mactivity_regularizer, \u001b[39m*\u001b[39;49m\u001b[39m*\u001b[39;49mkwargs)\n\u001b[0;32m    119\u001b[0m     \u001b[39mself\u001b[39m\u001b[39m.\u001b[39munits \u001b[39m=\u001b[39m \u001b[39mint\u001b[39m(units) \u001b[39mif\u001b[39;00m \u001b[39mnot\u001b[39;00m \u001b[39misinstance\u001b[39m(units, \u001b[39mint\u001b[39m) \u001b[39melse\u001b[39;00m units\n\u001b[0;32m    120\u001b[0m     \u001b[39mif\u001b[39;00m \u001b[39mself\u001b[39m\u001b[39m.\u001b[39munits \u001b[39m<\u001b[39m \u001b[39m0\u001b[39m:\n",
      "File \u001b[1;32mc:\\Users\\Administrator\\AppData\\Local\\Programs\\Python\\Python311\\Lib\\site-packages\\tensorflow\\python\\trackable\\base.py:205\u001b[0m, in \u001b[0;36mno_automatic_dependency_tracking.<locals>._method_wrapper\u001b[1;34m(self, *args, **kwargs)\u001b[0m\n\u001b[0;32m    203\u001b[0m \u001b[39mself\u001b[39m\u001b[39m.\u001b[39m_self_setattr_tracking \u001b[39m=\u001b[39m \u001b[39mFalse\u001b[39;00m  \u001b[39m# pylint: disable=protected-access\u001b[39;00m\n\u001b[0;32m    204\u001b[0m \u001b[39mtry\u001b[39;00m:\n\u001b[1;32m--> 205\u001b[0m   result \u001b[39m=\u001b[39m method(\u001b[39mself\u001b[39;49m, \u001b[39m*\u001b[39;49margs, \u001b[39m*\u001b[39;49m\u001b[39m*\u001b[39;49mkwargs)\n\u001b[0;32m    206\u001b[0m \u001b[39mfinally\u001b[39;00m:\n\u001b[0;32m    207\u001b[0m   \u001b[39mself\u001b[39m\u001b[39m.\u001b[39m_self_setattr_tracking \u001b[39m=\u001b[39m previous_value  \u001b[39m# pylint: disable=protected-access\u001b[39;00m\n",
      "File \u001b[1;32mc:\\Users\\Administrator\\AppData\\Local\\Programs\\Python\\Python311\\Lib\\site-packages\\keras\\engine\\base_layer.py:453\u001b[0m, in \u001b[0;36mLayer.__init__\u001b[1;34m(self, trainable, name, dtype, dynamic, **kwargs)\u001b[0m\n\u001b[0;32m    451\u001b[0m         \u001b[39melse\u001b[39;00m:\n\u001b[0;32m    452\u001b[0m             batch_size \u001b[39m=\u001b[39m \u001b[39mNone\u001b[39;00m\n\u001b[1;32m--> 453\u001b[0m         batch_input_shape \u001b[39m=\u001b[39m (batch_size,) \u001b[39m+\u001b[39m \u001b[39mtuple\u001b[39;49m(kwargs[\u001b[39m\"\u001b[39;49m\u001b[39minput_shape\u001b[39;49m\u001b[39m\"\u001b[39;49m])\n\u001b[0;32m    454\u001b[0m     \u001b[39mself\u001b[39m\u001b[39m.\u001b[39m_batch_input_shape \u001b[39m=\u001b[39m batch_input_shape\n\u001b[0;32m    456\u001b[0m \u001b[39m# Manage initial weight values if passed.\u001b[39;00m\n",
      "\u001b[1;31mTypeError\u001b[0m: 'int' object is not iterable"
     ]
    }
   ],
   "source": [
    "import tensorflow as tf\n",
    "from tensorflow.keras import Sequential\n",
    "from tensorflow.keras.layers import Dense\n",
    "\n",
    "df_dl = df.copy()\n",
    "\n",
    "# Split the dataset before standardizing it's features\n",
    "X_train, X_test, y_train, y_test = train_test_split(X, y, train_size=0.8, random_state=128)\n",
    "\n",
    "# Standardize the numerical features\n",
    "scaler = StandardScaler()\n",
    "\n",
    "for col in [col for col in df_dl.columns if col not in ['Transported']]:\n",
    "    X_train[col] = scaler.fit_transform(X_train[col].values.reshape(-1, 1))\n",
    "    X_test[col] = scaler.transform(X_test[col].values.reshape(-1, 1))\n",
    "\n",
    "# Training the deep learning model\n",
    "dl_model = Sequential()\n",
    "dl_model.add(Dense(32, activation='relu', input_shape=(X_train.shape[1],)))\n",
    "dl_model.add(Dense(16, activation='relu'))\n",
    "dl_model.add(Dense(1, activation='sigmoid'))\n",
    "\n",
    "dl_model.compile(optimizer='adam', loss='binary_crossentropy', metrics=['accuracy'])\n",
    "\n",
    "dl_model.fit(X_train, y_train, epochs=100, batch_size=32, verbose=1)\n",
    "\n",
    "y_pred = dl_model.predict(X_test)\n",
    "\n",
    "y_pred = (y_pred > 0.5).astype('int32')\n",
    "\n",
    "print(f\"F1 score: {f1_score(y_test, y_pred)}\")\n",
    "print(f\"Accuracy score: {accuracy_score(y_test, y_pred)}\")"
   ]
  }
 ],
 "metadata": {
  "kernelspec": {
   "display_name": "Python 3",
   "language": "python",
   "name": "python3"
  },
  "language_info": {
   "codemirror_mode": {
    "name": "ipython",
    "version": 3
   },
   "file_extension": ".py",
   "mimetype": "text/x-python",
   "name": "python",
   "nbconvert_exporter": "python",
   "pygments_lexer": "ipython3",
   "version": "3.11.1"
  },
  "orig_nbformat": 4,
  "vscode": {
   "interpreter": {
    "hash": "ff4b1fca65a764b45acb559e482afe389d289dd599b9f8c5fd12ff5c2ea46a65"
   }
  }
 },
 "nbformat": 4,
 "nbformat_minor": 2
}
